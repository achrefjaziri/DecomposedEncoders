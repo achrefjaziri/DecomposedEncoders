{
 "cells": [
  {
   "cell_type": "code",
   "execution_count": 1,
   "metadata": {
    "pycharm": {
     "name": "#%%\n"
    }
   },
   "outputs": [
    {
     "ename": "ModuleNotFoundError",
     "evalue": "No module named 'psychopy'",
     "output_type": "error",
     "traceback": [
      "\u001b[0;31m---------------------------------------------------------------------------\u001b[0m",
      "\u001b[0;31mModuleNotFoundError\u001b[0m                       Traceback (most recent call last)",
      "\u001b[0;32m/tmp/ipykernel_335910/2213726471.py\u001b[0m in \u001b[0;36m<module>\u001b[0;34m\u001b[0m\n\u001b[0;32m----> 1\u001b[0;31m \u001b[0;32mfrom\u001b[0m \u001b[0mpsychopy\u001b[0m \u001b[0;32mimport\u001b[0m \u001b[0mvisual\u001b[0m\u001b[0;34m,\u001b[0m \u001b[0mcore\u001b[0m  \u001b[0;31m# import some libraries from PsychoPy\u001b[0m\u001b[0;34m\u001b[0m\u001b[0;34m\u001b[0m\u001b[0m\n\u001b[0m\u001b[1;32m      2\u001b[0m \u001b[0;32mimport\u001b[0m \u001b[0mnumpy\u001b[0m \u001b[0;32mas\u001b[0m \u001b[0mnp\u001b[0m\u001b[0;34m\u001b[0m\u001b[0;34m\u001b[0m\u001b[0m\n\u001b[1;32m      3\u001b[0m \u001b[0;34m\u001b[0m\u001b[0m\n\u001b[1;32m      4\u001b[0m \u001b[0;32mclass\u001b[0m \u001b[0mStimulus\u001b[0m\u001b[0;34m:\u001b[0m\u001b[0;34m\u001b[0m\u001b[0;34m\u001b[0m\u001b[0m\n\u001b[1;32m      5\u001b[0m \u001b[0;34m\u001b[0m\u001b[0m\n",
      "\u001b[0;31mModuleNotFoundError\u001b[0m: No module named 'psychopy'"
     ]
    }
   ],
   "source": [
    "from psychopy import visual, core  # import some libraries from PsychoPy\n",
    "import numpy as np\n",
    "\n",
    "class Stimulus:\n",
    "    \n",
    "    \n",
    "    def __init__(self,stim_type,win_dim,monitor='testMonitor',units='pix'):\n",
    "        \n",
    "        self.stim_type = stim_type\n",
    "        self.monitor = monitor\n",
    "        self.win_dim = win_dim\n",
    "        self.units = units\n",
    "        self.mywin = visual.Window(self.win_dim, monitor=self.monitor, units=self.units, color='black')\n",
    "        \n",
    "    \n",
    "    def generate_StaticGrating(self,all_sf,all_ori,all_phase,all_size):\n",
    "        \n",
    "        num_size = len(all_size)\n",
    "        num_sf = len(all_sf)\n",
    "        num_phase = len(all_phase)\n",
    "        num_ori = len(all_ori)\n",
    "        \n",
    "        I = np.ndarray((num_size,num_sf,num_phase,num_ori,self.win_dim[0]*2,self.win_dim[1]*2,3))\n",
    "        for scounter in range(0,num_size):\n",
    "            for sfcounter in range(0,num_sf):\n",
    "                for orcounter in range(0,num_ori):\n",
    "                    for pcounter in range(0,num_phase):\n",
    "                        \n",
    "                        grating = visual.GratingStim(win=self.mywin, mask=\"circle\", size=all_size[scounter], pos=[0,0], phase = all_phase[pcounter], sf = all_sf[sfcounter], ori=all_ori[orcounter])\n",
    "                        grating.draw()\n",
    "                        self.mywin.update()\n",
    "#                         core.wait(1.0)\n",
    "                        I[scounter,sfcounter,pcounter,orcounter,:,:,:] = self.mywin.getMovieFrame()\n",
    "#                         file_n = 'StimulusImages/SG/sg_' + str().png' + \n",
    "                        \n",
    "                        \n",
    "        \n",
    "        self.mywin.saveMovieFrames(fileName='StimulusImages/SG/sg_.png')\n",
    "        self.mywin.close()\n",
    "        \n",
    "        return I\n",
    "    \n",
    "    def generate_DriftingGrating(self,all_sf,all_dir,all_tf,all_size,duration,frame_rate):\n",
    "        \n",
    "        num_size = len(all_size)\n",
    "        num_sf = len(all_sf)\n",
    "        num_tf = len(all_tf)\n",
    "        num_dir = len(all_dir)\n",
    "        \n",
    "        I = np.ndarray((num_size,num_sf,num_tf,num_dir,duration,self.win_dim[0]*2,self.win_dim[1]*2,3))\n",
    "        for scounter in range(0,num_size):\n",
    "            for sfcounter in range(0,num_sf):\n",
    "                for tfcounter in range(0,num_tf):\n",
    "                    for dircounter in range(0,num_dir):\n",
    "                        grating = visual.GratingStim(win=self.mywin, mask=\"circle\", size=all_size[scounter], pos=[0,0], phase = 0, sf = all_sf[sfcounter], ori=all_dir[dircounter])\n",
    "                        for frcounter in range(0,duration):\n",
    "                            delta_phase = all_tf[tfcounter]/frame_rate    \n",
    "                            grating.setPhase(delta_phase, '+')\n",
    "                            \n",
    "                            grating.draw()\n",
    "                            self.mywin.update()\n",
    "    #                         core.wait(1.0)\n",
    "                            I[scounter,sfcounter,tfcounter,dircounter,frcounter,:,:,:] = self.mywin.getMovieFrame()\n",
    "    #                         file_n = 'StimulusImages/SG/sg_' + str().png' + \n",
    "                        \n",
    "                        \n",
    "        \n",
    "        self.mywin.saveMovieFrames(fileName='StimulusImages/DG/dg_.png')\n",
    "        self.mywin.close()\n",
    "        \n",
    "        return I\n",
    "    \n",
    "    def generate_RDK(self,all_dir,all_coh,all_spd,duration):\n",
    "        \n",
    "        num_dir = len(all_dir)\n",
    "        num_coh = len(all_coh)\n",
    "        num_spd = len(all_spd)\n",
    "        \n",
    "        I = np.ndarray((num_spd,num_dir,num_coh,duration,self.win_dim[0]*2,self.win_dim[1]*2,3))\n",
    "        \n",
    "        for spdcounter in range(0,num_spd):\n",
    "            for cohcounter in range(0,num_coh):\n",
    "                for dircounter in range(0,num_dir):\n",
    "                    rdk = visual.DotStim(win=self.mywin,nDots=100, coherence=all_coh[cohcounter], fieldPos=(0.0, 0.0), fieldSize=(64.0, 64.0), \n",
    "                                         fieldShape='circle', dotSize=2, dotLife=int(duration/5), dir=all_dir[dircounter], speed=all_spd[spdcounter], rgb=None, color=(1.0, 1.0, 1.0), colorSpace='rgb', opacity=1.0, \n",
    "                                         contrast=1.0, depth=0, element=None, signalDots='same', noiseDots='direction', name=None, autoLog=None)\n",
    "                    for frcounter in range(0,duration):\n",
    "                        rdk.draw()\n",
    "                        self.mywin.update()\n",
    "                        I[spdcounter,dircounter,cohcounter,:,:,:] = self.mywin.getMovieFrame()\n",
    "    #             core.wait(1/60)\n",
    "\n",
    "        self.mywin.saveMovieFrames(fileName='StimulusImages/RDK/rdk_.png')\n",
    "        self.mywin.close()\n",
    "        \n",
    "        return I\n",
    "        \n",
    "    def generate_complexRDK(self,all_dir,all_coh,all_spd,duration):\n",
    "        \n",
    "        num_dir = len(all_dir)\n",
    "        num_coh = len(all_coh)\n",
    "        num_spd = len(all_spd)\n",
    "        \n",
    "        I = np.ndarray((2,num_spd,num_dir,num_coh,duration,self.win_dim[0]*2,self.win_dim[1]*2,3))\n",
    "        \n",
    "        for motioncount,motion in enumerate(['spiral','deformation']):\n",
    "            for spdcounter in range(0,num_spd):\n",
    "                for cohcounter in range(0,num_coh):\n",
    "                    for dircounter in range(0,num_dir):\n",
    "                        cmplx_rdk = complexDotStim(win=self.mywin,nDots=100, coherence=all_coh[cohcounter], fieldPos=(0.0, 0.0), fieldSize=(64.0, 64.0), \n",
    "                                             fieldShape='circle', dotSize=2, dotLife=int(duration/5), dir=all_dir[dircounter], speed=all_spd[spdcounter], rgb=None, color=(1.0, 1.0, 1.0), colorSpace='rgb', opacity=1.0, \n",
    "                                             contrast=1.0, depth=0, element=None, signalDots='same', noiseDots='direction', name=None, autoLog=None, omega=0.1,motionType = motion)\n",
    "                        for frcounter in range(0,duration):\n",
    "                            cmplx_rdk.draw()\n",
    "                            self.mywin.update()\n",
    "                            I[motioncount,spdcounter,dircounter,cohcounter,:,:,:] = self.mywin.getMovieFrame()\n",
    "    #                         core.wait(1/60)\n",
    "\n",
    "        self.mywin.saveMovieFrames(fileName='StimulusImages/RDK/zcmplx_rdk_.png')\n",
    "        self.mywin.close()\n",
    "        \n",
    "        return I\n",
    "    \n",
    "    \n",
    "from psychopy.visual.dot import DotStim\n",
    "class complexDotStim(DotStim):\n",
    "    def __init__(self,win,units='',nDots=1,coherence=0.5,fieldPos=(0.0, 0.0),fieldSize=(100.0, 100.0),fieldShape='sqr',dotSize=2.0,dotLife=3,dir=0.0,speed=0.5,rgb=None,color=(1.0, 1.0, 1.0),colorSpace='rgb',opacity=1.0,contrast=1.0,depth=0,element=None,signalDots='same',noiseDots='direction',\n",
    "             name=None,autoLog=None,omega=100,motionType='spiral'):\n",
    "        \n",
    "        self.omega = omega\n",
    "        self.motionType = motionType\n",
    "        \n",
    "        super().__init__(win,units='',nDots=nDots,coherence=coherence,fieldPos=fieldPos,fieldSize=fieldSize,fieldShape=fieldShape,dotSize=dotSize,dotLife=dotLife,dir=dir,speed=speed,rgb=None,color=color,colorSpace='rgb',opacity=opacity,contrast=contrast,depth=depth,element=None,signalDots='same',noiseDots='direction',name=None,autoLog=None)\n",
    "    def _update_dotsXY(self):\n",
    "        \"\"\"The user shouldn't call this - its gets done within draw().\n",
    "        \"\"\"\n",
    "        # Find dead dots, update positions, get new positions for\n",
    "        # dead and out-of-bounds\n",
    "        # renew dead dots\n",
    "        if self.dotLife > 0:  # if less than zero ignore it\n",
    "            # decrement. Then dots to be reborn will be negative\n",
    "            self._dotsLife -= 1\n",
    "            dead = (self._dotsLife <= 0)\n",
    "#             self._deadDots[:] = (self._dotsLife <= 0)\n",
    "            self._dotsLife[dead] = self.dotLife\n",
    "        else:\n",
    "#             self._deadDots[:] = False\n",
    "            dead = numpy.zeros(self.nDots, dtype=bool)\n",
    "        # update XY based on speed and dir\n",
    "        # NB self._dotsDir is in radians, but self.dir is in degs\n",
    "        # update which are the noise/signal dots\n",
    "        if self.signalDots == 'different':\n",
    "            #  **up to version 1.70.00 this was the other way around,\n",
    "            # not in keeping with Scase et al**\n",
    "            # noise and signal dots change identity constantly\n",
    "            np.random.shuffle(self._dotsDir)\n",
    "            # and then update _signalDots from that\n",
    "            self._signalDots = (self._dotsDir == (self.dir * _piOver180))\n",
    "        # update the locations of signal and noise; 0 radians=East!\n",
    "        reshape = np.reshape\n",
    "        if self.noiseDots == 'walk':\n",
    "            # noise dots are ~self._signalDots\n",
    "            sig = np.random.rand(np.sum(~self._signalDots))\n",
    "            self._dotsDir[~self._signalDots] = sig * _2pi\n",
    "            # then update all positions from dir*speed\n",
    "            cosDots = reshape(np.cos(self._dotsDir), (self.nDots,))\n",
    "            sinDots = reshape(np.sin(self._dotsDir), (self.nDots,))\n",
    "            self._verticesBase[:, 0] += self.speed * cosDots\n",
    "            self._verticesBase[:, 1] += self.speed * sinDots\n",
    "#         elif self.noiseDots == 'direction':\n",
    "#             # simply use the stored directions to update position\n",
    "#             cosDots = reshape(np.cos(self._dotsDir), (self.nDots,))\n",
    "#             sinDots = reshape(np.sin(self._dotsDir), (self.nDots,))\n",
    "#             self._verticesBase[:, 0] += self.speed * cosDots\n",
    "#             self._verticesBase[:, 1] += self.speed * sinDots\n",
    "        elif self.noiseDots == 'direction':\n",
    "            # simply use the stored directions to update position\n",
    "            cosDots = reshape(np.cos(self._dotsDir), (self.nDots,))\n",
    "            sinDots = reshape(np.sin(self._dotsDir), (self.nDots,))\n",
    "#             self._verticesBase[:, 0] += self.speed * cosDots\n",
    "#             self._verticesBase[:, 1] += self.speed * sinDots\n",
    "            if self.motionType == 'spiral':\n",
    "                self._verticesBase[:, 0] += self.omega*(self._verticesBase[:, 0] * cosDots - self._verticesBase[:, 1] * sinDots)\n",
    "                self._verticesBase[:, 1] += self.omega*(self._verticesBase[:, 0] * sinDots + self._verticesBase[:, 1] * cosDots)  \n",
    "            elif self.motionType == 'deformation':\n",
    "                self._verticesBase[:, 0] += self.omega*(self._verticesBase[:, 0] * cosDots + self._verticesBase[:, 1] * sinDots)\n",
    "                self._verticesBase[:, 1] += self.omega*(self._verticesBase[:, 0] * sinDots - self._verticesBase[:, 1] * cosDots)  \n",
    "                \n",
    "        elif self.noiseDots == 'position':\n",
    "            # update signal dots\n",
    "            sd = self._signalDots\n",
    "            sdSum = self._signalDots.sum()\n",
    "            cosDots = reshape(np.cos(self._dotsDir[sd]), (sdSum,))\n",
    "            sinDots = reshape(np.sin(self._dotsDir[sd]), (sdSum,))\n",
    "            self._verticesBase[sd, 0] += self.speed * cosDots\n",
    "            self._verticesBase[sd, 1] += self.speed * sinDots\n",
    "            # update noise dots\n",
    "            self._deadDots[:] = self._deadDots + (~self._signalDots)\n",
    "        # handle boundaries of the field\n",
    "        if self.fieldShape in (None, 'square', 'sqr'):\n",
    "            out0 = (np.abs(self._verticesBase[:, 0]) > .5 * self.fieldSize[0])\n",
    "            out1 = (np.abs(self._verticesBase[:, 1]) > .5 * self.fieldSize[1])\n",
    "            outofbounds = out0 + out1\n",
    "        else:\n",
    "            # transform to a normalised circle (radius = 1 all around)\n",
    "            # then to polar coords to check\n",
    "            # the normalised XY position (where radius should be < 1)\n",
    "            normXY = self._verticesBase / .5 / self.fieldSize\n",
    "            # add out-of-bounds to those that need replacing\n",
    "            outofbounds = np.logical_or(np.hypot(normXY[:, 0], normXY[:, 1]) > 1,np.hypot(normXY[:, 0], normXY[:, 1]) < 0.2)\n",
    "        # update any dead dots\n",
    "        if sum(dead):\n",
    "            self._verticesBase[dead, :] = self._newDotsXY(sum(dead))\n",
    "            #self._verticesBase[dead, :] = -self._verticesBase[dead,:]\n",
    "#         nDead = self._deadDots.sum()\n",
    "#         if nDead:\n",
    "#             self._verticesBase[self._deadDots, :] = self._newDotsXY(nDead)\n",
    "        # Reposition any dots that have gone out of bounds. Net effect is to\n",
    "        # place dot one step inside the boundary on the other side of the\n",
    "        # aperture.\n",
    "        nOutOfBounds = outofbounds.sum()\n",
    "        if nOutOfBounds:\n",
    "            self._verticesBase[outofbounds, :] = self._newDotsXY(nOutOfBounds)\n",
    "#             print(self._verticesBase[outofbounds, :])\n",
    "\n",
    "        # update the pixel XY coordinates in pixels (using _BaseVisual class)\n",
    "        self._updateVertices()\n",
    "        "
   ]
  },
  {
   "cell_type": "code",
   "execution_count": null,
   "metadata": {
    "pycharm": {
     "name": "#%%\n"
    }
   },
   "outputs": [],
   "source": [
    "Stim = Stimulus('sg',[400,400])\n",
    "I = Stim.generate_StaticGrating(all_sf=[0.003,0.006,0.012,0.024,0.048],all_ori=[0,30,60,90,120,150],all_phase=[0,0.25,0.5,0.75],all_size=[400])"
   ]
  },
  {
   "cell_type": "code",
   "execution_count": null,
   "metadata": {
    "pycharm": {
     "name": "#%%\n"
    }
   },
   "outputs": [],
   "source": [
    "Stim = Stimulus('sg',[400,400])\n",
    "I = Stim.generate_DriftingGrating(all_sf=[0.024],all_dir=[0,45,90,135,180,225,270,315],all_tf=[1,2,4,8,15],all_size=[400],duration=5,frame_rate=10)#[1,2,4,8,15] all_sf=[0.006]"
   ]
  },
  {
   "cell_type": "code",
   "execution_count": 5,
   "metadata": {
    "pycharm": {
     "name": "#%%\n"
    }
   },
   "outputs": [],
   "source": [
    "Stim = Stimulus('sg',[64,64])\n",
    "I = Stim.generate_RDK(all_dir=[90],all_coh=[0,1],all_spd=[5],duration=25) #np.arange(0,360,90)\n"
   ]
  },
  {
   "cell_type": "code",
   "execution_count": 6,
   "metadata": {
    "pycharm": {
     "name": "#%%\n"
    }
   },
   "outputs": [],
   "source": [
    "Stim = Stimulus('sg',[64,64])\n",
    "I = Stim.generate_complexRDK(all_dir=np.arange(0,360,90),all_coh=[0,1],all_spd=[20],duration=25)\n"
   ]
  },
  {
   "cell_type": "code",
   "execution_count": null,
   "metadata": {
    "pycharm": {
     "name": "#%%\n"
    }
   },
   "outputs": [],
   "source": []
  },
  {
   "cell_type": "code",
   "execution_count": null,
   "metadata": {
    "pycharm": {
     "name": "#%%\n"
    }
   },
   "outputs": [],
   "source": []
  },
  {
   "cell_type": "code",
   "execution_count": null,
   "metadata": {
    "pycharm": {
     "name": "#%%\n"
    }
   },
   "outputs": [],
   "source": []
  }
 ],
 "metadata": {
  "kernelspec": {
   "display_name": "Python 3",
   "language": "python",
   "name": "python3"
  },
  "language_info": {
   "codemirror_mode": {
    "name": "ipython",
    "version": 3
   },
   "file_extension": ".py",
   "mimetype": "text/x-python",
   "name": "python",
   "nbconvert_exporter": "python",
   "pygments_lexer": "ipython3",
   "version": "3.9.7"
  }
 },
 "nbformat": 4,
 "nbformat_minor": 4
}
